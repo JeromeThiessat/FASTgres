{
 "cells": [
  {
   "cell_type": "code",
   "execution_count": 1,
   "metadata": {
    "collapsed": true
   },
   "outputs": [
    {
     "name": "stdout",
     "output_type": "stream",
     "text": [
      "C:\\Users\\Jerome\\PycharmProjects\\FASTgres\\fastgres\n"
     ]
    },
    {
     "ename": "KeyError",
     "evalue": "'DBConnections'",
     "output_type": "error",
     "traceback": [
      "\u001B[1;31m---------------------------------------------------------------------------\u001B[0m",
      "\u001B[1;31mKeyError\u001B[0m                                  Traceback (most recent call last)",
      "Cell \u001B[1;32mIn[1], line 9\u001B[0m\n\u001B[0;32m      6\u001B[0m \u001B[38;5;28mprint\u001B[39m(os\u001B[38;5;241m.\u001B[39mgetcwd())\n\u001B[0;32m      8\u001B[0m \u001B[38;5;28;01mfrom\u001B[39;00m \u001B[38;5;21;01mworkloads\u001B[39;00m\u001B[38;5;21;01m.\u001B[39;00m\u001B[38;5;21;01mworkload\u001B[39;00m \u001B[38;5;28;01mimport\u001B[39;00m Workload\n\u001B[1;32m----> 9\u001B[0m \u001B[38;5;28;01mfrom\u001B[39;00m \u001B[38;5;21;01mquery_encoding\u001B[39;00m\u001B[38;5;21;01m.\u001B[39;00m\u001B[38;5;21;01mquery\u001B[39;00m \u001B[38;5;28;01mimport\u001B[39;00m Query\n\u001B[0;32m     10\u001B[0m \u001B[38;5;28;01mfrom\u001B[39;00m \u001B[38;5;21;01mquery_encoding\u001B[39;00m\u001B[38;5;21;01m.\u001B[39;00m\u001B[38;5;21;01mencoded_query\u001B[39;00m \u001B[38;5;28;01mimport\u001B[39;00m EncodedQuery, EncodingInformation, Context\n\u001B[0;32m     11\u001B[0m \u001B[38;5;28;01mfrom\u001B[39;00m \u001B[38;5;21;01mbaseline\u001B[39;00m\u001B[38;5;21;01m.\u001B[39;00m\u001B[38;5;21;01mdatabase_connection\u001B[39;00m \u001B[38;5;28;01mimport\u001B[39;00m DatabaseConnection\n",
      "File \u001B[1;32m~\\PycharmProjects\\FASTgres\\fastgres\\query_encoding\\query.py:3\u001B[0m\n\u001B[0;32m      2\u001B[0m \u001B[38;5;28;01mfrom\u001B[39;00m \u001B[38;5;21;01mfastgres\u001B[39;00m\u001B[38;5;21;01m.\u001B[39;00m\u001B[38;5;21;01mmodels\u001B[39;00m\u001B[38;5;21;01m.\u001B[39;00m\u001B[38;5;21;01mcontext\u001B[39;00m \u001B[38;5;28;01mimport\u001B[39;00m Context\n\u001B[1;32m----> 3\u001B[0m \u001B[38;5;28;01mfrom\u001B[39;00m \u001B[38;5;21;01mfastgres\u001B[39;00m\u001B[38;5;21;01m.\u001B[39;00m\u001B[38;5;21;01mworkloads\u001B[39;00m\u001B[38;5;21;01m.\u001B[39;00m\u001B[38;5;21;01mworkload\u001B[39;00m \u001B[38;5;28;01mimport\u001B[39;00m Workload\n\u001B[0;32m      4\u001B[0m \u001B[38;5;28;01mfrom\u001B[39;00m \u001B[38;5;21;01mfastgres\u001B[39;00m\u001B[38;5;21;01m.\u001B[39;00m\u001B[38;5;21;01mbaseline\u001B[39;00m\u001B[38;5;21;01m.\u001B[39;00m\u001B[38;5;21;01mlog_utils\u001B[39;00m \u001B[38;5;28;01mimport\u001B[39;00m get_logger\n\u001B[0;32m      5\u001B[0m \u001B[38;5;28;01mfrom\u001B[39;00m \u001B[38;5;21;01mfastgres\u001B[39;00m\u001B[38;5;21;01m.\u001B[39;00m\u001B[38;5;21;01mquery_encoding\u001B[39;00m\u001B[38;5;21;01m.\u001B[39;00m\u001B[38;5;21;01mquery_handlers\u001B[39;00m\u001B[38;5;21;01m.\u001B[39;00m\u001B[38;5;21;01mselect_handler\u001B[39;00m \u001B[38;5;28;01mimport\u001B[39;00m get_select\n",
      "File \u001B[1;32m~\\PycharmProjects\\FASTgres\\venv\\lib\\site-packages\\fastgres\\workloads\\workload.py:4\u001B[0m\n\u001B[0;32m      2\u001B[0m \u001B[38;5;28;01mimport\u001B[39;00m \u001B[38;5;21;01mos\u001B[39;00m\n\u001B[0;32m      3\u001B[0m \u001B[38;5;28;01mfrom\u001B[39;00m \u001B[38;5;21;01mmo_sql_parsing\u001B[39;00m \u001B[38;5;28;01mimport\u001B[39;00m parse\n\u001B[1;32m----> 4\u001B[0m \u001B[38;5;28;01mfrom\u001B[39;00m \u001B[38;5;21;01mbaseline\u001B[39;00m\u001B[38;5;21;01m.\u001B[39;00m\u001B[38;5;21;01mlog_utils\u001B[39;00m \u001B[38;5;28;01mimport\u001B[39;00m get_logger\n\u001B[0;32m      5\u001B[0m \u001B[38;5;28;01mfrom\u001B[39;00m \u001B[38;5;21;01mtqdm\u001B[39;00m \u001B[38;5;28;01mimport\u001B[39;00m tqdm\n\u001B[0;32m      6\u001B[0m \u001B[38;5;28;01mfrom\u001B[39;00m \u001B[38;5;21;01msklearn\u001B[39;00m\u001B[38;5;21;01m.\u001B[39;00m\u001B[38;5;21;01mmodel_selection\u001B[39;00m \u001B[38;5;28;01mimport\u001B[39;00m train_test_split\n",
      "File \u001B[1;32m~\\PycharmProjects\\FASTgres\\fastgres\\baseline\\log_utils.py:3\u001B[0m\n\u001B[0;32m      2\u001B[0m \u001B[38;5;28;01mimport\u001B[39;00m \u001B[38;5;21;01mlogging\u001B[39;00m\n\u001B[1;32m----> 3\u001B[0m \u001B[38;5;28;01mfrom\u001B[39;00m \u001B[38;5;21;01mfastgres\u001B[39;00m\u001B[38;5;21;01m.\u001B[39;00m\u001B[38;5;21;01mdefinitions\u001B[39;00m \u001B[38;5;28;01mimport\u001B[39;00m ROOT_DIR\n\u001B[0;32m      6\u001B[0m \u001B[38;5;28;01mdef\u001B[39;00m \u001B[38;5;21mget_logger\u001B[39m():\n\u001B[0;32m      7\u001B[0m     logging\u001B[38;5;241m.\u001B[39mbasicConfig(filename\u001B[38;5;241m=\u001B[39mROOT_DIR \u001B[38;5;241m+\u001B[39m \u001B[38;5;124m'\u001B[39m\u001B[38;5;124m/logs/workload.log\u001B[39m\u001B[38;5;124m'\u001B[39m, filemode\u001B[38;5;241m=\u001B[39m\u001B[38;5;124m'\u001B[39m\u001B[38;5;124mw\u001B[39m\u001B[38;5;124m'\u001B[39m,\n\u001B[0;32m      8\u001B[0m                         \u001B[38;5;28mformat\u001B[39m\u001B[38;5;241m=\u001B[39m\u001B[38;5;124m'\u001B[39m\u001B[38;5;132;01m%(name)s\u001B[39;00m\u001B[38;5;124m - \u001B[39m\u001B[38;5;132;01m%(levelname)s\u001B[39;00m\u001B[38;5;124m - \u001B[39m\u001B[38;5;132;01m%(message)s\u001B[39;00m\u001B[38;5;124m'\u001B[39m, level\u001B[38;5;241m=\u001B[39mlogging\u001B[38;5;241m.\u001B[39mINFO)\n",
      "File \u001B[1;32m~\\PycharmProjects\\FASTgres\\venv\\lib\\site-packages\\fastgres\\definitions.py:9\u001B[0m\n\u001B[0;32m      6\u001B[0m cfg \u001B[38;5;241m=\u001B[39m ConfigParser()\n\u001B[0;32m      7\u001B[0m cfg\u001B[38;5;241m.\u001B[39mread(ROOT_DIR \u001B[38;5;241m+\u001B[39m \u001B[38;5;124m\"\u001B[39m\u001B[38;5;124m/config.ini\u001B[39m\u001B[38;5;124m\"\u001B[39m)\n\u001B[1;32m----> 9\u001B[0m dbs \u001B[38;5;241m=\u001B[39m \u001B[43mcfg\u001B[49m\u001B[43m[\u001B[49m\u001B[38;5;124;43m\"\u001B[39;49m\u001B[38;5;124;43mDBConnections\u001B[39;49m\u001B[38;5;124;43m\"\u001B[39;49m\u001B[43m]\u001B[49m\n\u001B[0;32m     10\u001B[0m PG_IMDB \u001B[38;5;241m=\u001B[39m dbs[\u001B[38;5;124m\"\u001B[39m\u001B[38;5;124mimdb\u001B[39m\u001B[38;5;124m\"\u001B[39m]\n\u001B[0;32m     11\u001B[0m PG_STACK_OVERFLOW \u001B[38;5;241m=\u001B[39m dbs[\u001B[38;5;124m\"\u001B[39m\u001B[38;5;124mstack_overflow\u001B[39m\u001B[38;5;124m\"\u001B[39m]\n",
      "File \u001B[1;32m~\\AppData\\Local\\Programs\\Python\\Python39\\lib\\configparser.py:963\u001B[0m, in \u001B[0;36mRawConfigParser.__getitem__\u001B[1;34m(self, key)\u001B[0m\n\u001B[0;32m    961\u001B[0m \u001B[38;5;28;01mdef\u001B[39;00m \u001B[38;5;21m__getitem__\u001B[39m(\u001B[38;5;28mself\u001B[39m, key):\n\u001B[0;32m    962\u001B[0m     \u001B[38;5;28;01mif\u001B[39;00m key \u001B[38;5;241m!=\u001B[39m \u001B[38;5;28mself\u001B[39m\u001B[38;5;241m.\u001B[39mdefault_section \u001B[38;5;129;01mand\u001B[39;00m \u001B[38;5;129;01mnot\u001B[39;00m \u001B[38;5;28mself\u001B[39m\u001B[38;5;241m.\u001B[39mhas_section(key):\n\u001B[1;32m--> 963\u001B[0m         \u001B[38;5;28;01mraise\u001B[39;00m \u001B[38;5;167;01mKeyError\u001B[39;00m(key)\n\u001B[0;32m    964\u001B[0m     \u001B[38;5;28;01mreturn\u001B[39;00m \u001B[38;5;28mself\u001B[39m\u001B[38;5;241m.\u001B[39m_proxies[key]\n",
      "\u001B[1;31mKeyError\u001B[0m: 'DBConnections'"
     ]
    }
   ],
   "source": [
    "import os\n",
    "import ray\n",
    "if os.getcwd() != \"C:/Users/Jerome/PycharmProjects/FASTgres/fastgres\":\n",
    "    os.chdir(\"C:/Users/Jerome/PycharmProjects/FASTgres/fastgres\")\n",
    "\n",
    "print(os.getcwd())\n",
    "\n",
    "from workloads.workload import Workload\n",
    "from query_encoding.query import Query\n",
    "from query_encoding.encoded_query import EncodedQuery, EncodingInformation, Context\n",
    "from baseline.database_connection import DatabaseConnection\n",
    "from models.experience import Experience\n",
    "from baseline.experiment import Experiment\n",
    "from definitions import PG_STACK_OVERFLOW\n",
    "from models.train_model import Settings\n",
    "import random\n",
    "import numpy as np\n",
    "import baseline.utility as u\n",
    "from tqdm.notebook import tqdm\n",
    "import time\n",
    "\n",
    "workload = Workload(\"workloads/queries/stack/\", \"stack\")\n",
    "workload.load_queries()"
   ]
  },
  {
   "cell_type": "code",
   "execution_count": 2,
   "outputs": [],
   "source": [
    "@ray.remote\n",
    "def build_query(q, w):\n",
    "    return Query(q, w)"
   ],
   "metadata": {
    "collapsed": false
   }
  },
  {
   "cell_type": "code",
   "execution_count": 3,
   "outputs": [],
   "source": [
    "# query_list = list()\n",
    "# t0 = time.time()\n",
    "# for query_name in tqdm(workload.queries):\n",
    "#     query = build_query.remote(query_name, workload)\n",
    "#     query_list.append(query)\n",
    "# vals = ray.get(query_list)\n",
    "# query_dict = dict(list(zip(workload.queries, vals)))\n",
    "# t1 = time.time()"
   ],
   "metadata": {
    "collapsed": false
   }
  },
  {
   "cell_type": "code",
   "execution_count": 4,
   "outputs": [],
   "source": [
    "\n",
    "from models.sync_model import Synchronizer\n",
    "\n",
    "@ray.remote\n",
    "class TrainingPhase:\n",
    "\n",
    "    def __init__(self, experiment: Experiment):\n",
    "        self.training_queries = experiment.training_queries\n",
    "        self.enc_info = experiment.encoding_info\n",
    "        self.db_conn = experiment.db_connection\n",
    "        self.archive = experiment.archive\n",
    "        self.models = None\n",
    "        self.workload = experiment.workload\n",
    "        self.settings = experiment.settings\n",
    "\n",
    "    def train(self):\n",
    "        print(\"Setting query information\")\n",
    "        global_experience = Experience(self.archive)\n",
    "\n",
    "        query_list = list()\n",
    "        t0 = time.time()\n",
    "        for query_name in tqdm(self.training_queries):\n",
    "            query = build_query.remote(query_name, workload)\n",
    "            query_list.append(query)\n",
    "        vals = ray.get(query_list)\n",
    "        query_dict = dict(list(zip(workload.queries, vals)))\n",
    "        t1 = time.time()\n",
    "        print(f\"Query building time: {t1-t0}\")\n",
    "\n",
    "        for query_name in self.training_queries:\n",
    "            global_experience.add_experience(query_dict[query_name])\n",
    "\n",
    "        print(\"Training context models\")\n",
    "        context_queries = global_experience.sort_by_context()\n",
    "        context_models = dict()\n",
    "        for context_set in tqdm(context_queries):\n",
    "            context = Context()\n",
    "            context.add_context(context_set)\n",
    "            local_experience = Experience(self.archive)\n",
    "            local_experience.add_experiences(context_queries[context_set])\n",
    "            synchronizer = Synchronizer(context, self.db_conn, self.enc_info, local_experience, self.settings)\n",
    "            synchronizer.build_model()\n",
    "            context_models[context_set] = synchronizer\n",
    "        self.models = context_models\n",
    "        print(f\"Finished training context models. Totalling {len(list(self.models.keys()))} models.\")\n",
    "        return self.models\n",
    "\n",
    "    def save_models(self, save_path: str):\n",
    "        if self.models is not None:\n",
    "            u.save_pickle(self.models, save_path)\n",
    "        else:\n",
    "            raise ValueError(\"Trying to save None model\")\n",
    "\n",
    "@ray.remote\n",
    "class TestingPhase:\n",
    "\n",
    "    def __init__(self, experiment: Experiment, context_models: dict):\n",
    "        self.experiment = experiment\n",
    "        self.archive = experiment.archive\n",
    "        self.workload = experiment.workload\n",
    "        self.testing_queries = experiment.testing_queries\n",
    "        self.encoding_info = experiment.encoding_info\n",
    "        self.context_models = context_models\n",
    "        self.predictions = {'initial': {}, 'final': {}}\n",
    "\n",
    "    def test(self):\n",
    "        print(\"Starting testing phase\")\n",
    "        for query_name in self.testing_queries[:10]:\n",
    "            query = Query(query_name, self.workload)\n",
    "            context_set = query.context\n",
    "            context = Context()\n",
    "            context.add_context(context_set)\n",
    "            encoded_query = EncodedQuery(context, query, self.encoding_info)\n",
    "            encoded_query.encode_query()\n",
    "\n",
    "            synchronizer: Synchronizer = self.context_models[context_set]\n",
    "            prediction = synchronizer.model.predict(encoded_query.encoded_query)\n",
    "            print(f\"Query {query.name[:8]} with prediction: {prediction}\")\n",
    "            self.predictions['initial'][query_name] = prediction\n",
    "\n",
    "            # no retraining at the moment\n",
    "            # synchronizer.pre_execution()\n",
    "            # execution_time = synchronizer.run_query(query, HintSet(prediction), self.workload, use_timeout=True)\n",
    "            # global_reduction = synchronizer.post_execution(encoded_query, execution_time)\n",
    "            # for c_set, sync in self.context_models.items():\n",
    "            #     sync.reduce_cooldown(global_reduction)"
   ],
   "metadata": {
    "collapsed": false
   }
  },
  {
   "cell_type": "code",
   "execution_count": 5,
   "outputs": [
    {
     "name": "stderr",
     "output_type": "stream",
     "text": [
      "2023-12-14 09:44:15,347\tINFO worker.py:1673 -- Started a local Ray instance.\n"
     ]
    },
    {
     "data": {
      "text/plain": "RayContext(dashboard_url='', python_version='3.9.13', ray_version='2.8.1', ray_commit='82a8df138fe7fcc5c42536ebf26e8c3665704fee', protocol_version=None)",
      "application/vnd.jupyter.widget-view+json": {
       "version_major": 2,
       "version_minor": 0,
       "model_id": "d09b6511742f45b9995b599f77565b67"
      },
      "text/html": "<div class=\"lm-Widget p-Widget lm-Panel p-Panel jp-Cell-outputWrapper\">\n    <div style=\"margin-left: 50px;display: flex;flex-direction: row;align-items: center\">\n        <div class=\"jp-RenderedHTMLCommon\" style=\"display: flex; flex-direction: row;\">\n  <svg viewBox=\"0 0 567 224\" fill=\"none\" xmlns=\"http://www.w3.org/2000/svg\" style=\"height: 3em;\">\n    <g clip-path=\"url(#clip0_4338_178347)\">\n        <path d=\"M341.29 165.561H355.29L330.13 129.051C345.63 123.991 354.21 112.051 354.21 94.2307C354.21 71.3707 338.72 58.1807 311.88 58.1807H271V165.561H283.27V131.661H311.8C314.25 131.661 316.71 131.501 319.01 131.351L341.25 165.561H341.29ZM283.29 119.851V70.0007H311.82C331.3 70.0007 342.34 78.2907 342.34 94.5507C342.34 111.271 331.34 119.861 311.82 119.861L283.29 119.851ZM451.4 138.411L463.4 165.561H476.74L428.74 58.1807H416L367.83 165.561H380.83L392.83 138.411H451.4ZM446.19 126.601H398L422 72.1407L446.24 126.601H446.19ZM526.11 128.741L566.91 58.1807H554.35L519.99 114.181L485.17 58.1807H472.44L514.01 129.181V165.541H526.13V128.741H526.11Z\" fill=\"var(--jp-ui-font-color0)\"/>\n        <path d=\"M82.35 104.44C84.0187 97.8827 87.8248 92.0678 93.1671 87.9146C98.5094 83.7614 105.083 81.5067 111.85 81.5067C118.617 81.5067 125.191 83.7614 130.533 87.9146C135.875 92.0678 139.681 97.8827 141.35 104.44H163.75C164.476 101.562 165.622 98.8057 167.15 96.2605L127.45 56.5605C121.071 60.3522 113.526 61.6823 106.235 60.3005C98.9443 58.9187 92.4094 54.9203 87.8602 49.0574C83.3109 43.1946 81.0609 35.8714 81.5332 28.4656C82.0056 21.0599 85.1679 14.0819 90.4252 8.8446C95.6824 3.60726 102.672 0.471508 110.08 0.0272655C117.487 -0.416977 124.802 1.86091 130.647 6.4324C136.493 11.0039 140.467 17.5539 141.821 24.8501C143.175 32.1463 141.816 39.6859 138 46.0505L177.69 85.7505C182.31 82.9877 187.58 81.4995 192.962 81.4375C198.345 81.3755 203.648 82.742 208.33 85.3976C213.012 88.0532 216.907 91.9029 219.616 96.5544C222.326 101.206 223.753 106.492 223.753 111.875C223.753 117.258 222.326 122.545 219.616 127.197C216.907 131.848 213.012 135.698 208.33 138.353C203.648 141.009 198.345 142.375 192.962 142.313C187.58 142.251 182.31 140.763 177.69 138L138 177.7C141.808 184.071 143.155 191.614 141.79 198.91C140.424 206.205 136.44 212.75 130.585 217.313C124.731 221.875 117.412 224.141 110.004 223.683C102.596 223.226 95.6103 220.077 90.3621 214.828C85.1139 209.58 81.9647 202.595 81.5072 195.187C81.0497 187.779 83.3154 180.459 87.878 174.605C92.4405 168.751 98.9853 164.766 106.281 163.401C113.576 162.035 121.119 163.383 127.49 167.19L167.19 127.49C165.664 124.941 164.518 122.182 163.79 119.3H141.39C139.721 125.858 135.915 131.673 130.573 135.826C125.231 139.98 118.657 142.234 111.89 142.234C105.123 142.234 98.5494 139.98 93.2071 135.826C87.8648 131.673 84.0587 125.858 82.39 119.3H60C58.1878 126.495 53.8086 132.78 47.6863 136.971C41.5641 141.163 34.1211 142.972 26.7579 142.059C19.3947 141.146 12.6191 137.574 7.70605 132.014C2.79302 126.454 0.0813599 119.29 0.0813599 111.87C0.0813599 104.451 2.79302 97.2871 7.70605 91.7272C12.6191 86.1673 19.3947 82.5947 26.7579 81.6817C34.1211 80.7686 41.5641 82.5781 47.6863 86.7696C53.8086 90.9611 58.1878 97.2456 60 104.44H82.35ZM100.86 204.32C103.407 206.868 106.759 208.453 110.345 208.806C113.93 209.159 117.527 208.258 120.522 206.256C123.517 204.254 125.725 201.276 126.771 197.828C127.816 194.38 127.633 190.677 126.253 187.349C124.874 184.021 122.383 181.274 119.205 179.577C116.027 177.88 112.359 177.337 108.826 178.042C105.293 178.746 102.113 180.654 99.8291 183.44C97.5451 186.226 96.2979 189.718 96.3 193.32C96.2985 195.364 96.7006 197.388 97.4831 199.275C98.2656 201.163 99.4132 202.877 100.86 204.32ZM204.32 122.88C206.868 120.333 208.453 116.981 208.806 113.396C209.159 109.811 208.258 106.214 206.256 103.219C204.254 100.223 201.275 98.0151 197.827 96.97C194.38 95.9249 190.676 96.1077 187.348 97.4873C184.02 98.8669 181.274 101.358 179.577 104.536C177.879 107.714 177.337 111.382 178.041 114.915C178.746 118.448 180.653 121.627 183.439 123.911C186.226 126.195 189.717 127.443 193.32 127.44C195.364 127.443 197.388 127.042 199.275 126.259C201.163 125.476 202.878 124.328 204.32 122.88ZM122.88 19.4205C120.333 16.8729 116.981 15.2876 113.395 14.9347C109.81 14.5817 106.213 15.483 103.218 17.4849C100.223 19.4868 98.0146 22.4654 96.9696 25.9131C95.9245 29.3608 96.1073 33.0642 97.4869 36.3922C98.8665 39.7202 101.358 42.4668 104.535 44.1639C107.713 45.861 111.381 46.4036 114.914 45.6992C118.447 44.9949 121.627 43.0871 123.911 40.301C126.195 37.515 127.442 34.0231 127.44 30.4205C127.44 28.3772 127.038 26.3539 126.255 24.4664C125.473 22.5788 124.326 20.8642 122.88 19.4205ZM19.42 100.86C16.8725 103.408 15.2872 106.76 14.9342 110.345C14.5813 113.93 15.4826 117.527 17.4844 120.522C19.4863 123.518 22.4649 125.726 25.9127 126.771C29.3604 127.816 33.0638 127.633 36.3918 126.254C39.7198 124.874 42.4664 122.383 44.1635 119.205C45.8606 116.027 46.4032 112.359 45.6988 108.826C44.9944 105.293 43.0866 102.114 40.3006 99.8296C37.5145 97.5455 34.0227 96.2983 30.42 96.3005C26.2938 96.3018 22.337 97.9421 19.42 100.86ZM100.86 100.86C98.3125 103.408 96.7272 106.76 96.3742 110.345C96.0213 113.93 96.9226 117.527 98.9244 120.522C100.926 123.518 103.905 125.726 107.353 126.771C110.8 127.816 114.504 127.633 117.832 126.254C121.16 124.874 123.906 122.383 125.604 119.205C127.301 116.027 127.843 112.359 127.139 108.826C126.434 105.293 124.527 102.114 121.741 99.8296C118.955 97.5455 115.463 96.2983 111.86 96.3005C109.817 96.299 107.793 96.701 105.905 97.4835C104.018 98.2661 102.303 99.4136 100.86 100.86Z\" fill=\"#00AEEF\"/>\n    </g>\n    <defs>\n        <clipPath id=\"clip0_4338_178347\">\n            <rect width=\"566.93\" height=\"223.75\" fill=\"white\"/>\n        </clipPath>\n    </defs>\n  </svg>\n</div>\n\n        <table class=\"jp-RenderedHTMLCommon\" style=\"border-collapse: collapse;color: var(--jp-ui-font-color1);font-size: var(--jp-ui-font-size1);\">\n    <tr>\n        <td style=\"text-align: left\"><b>Python version:</b></td>\n        <td style=\"text-align: left\"><b>3.9.13</b></td>\n    </tr>\n    <tr>\n        <td style=\"text-align: left\"><b>Ray version:</b></td>\n        <td style=\"text-align: left\"><b>2.8.1</b></td>\n    </tr>\n    \n</table>\n\n    </div>\n</div>\n"
     },
     "execution_count": 5,
     "metadata": {},
     "output_type": "execute_result"
    }
   ],
   "source": [
    "ray.init()"
   ],
   "metadata": {
    "collapsed": false
   }
  },
  {
   "cell_type": "code",
   "execution_count": 6,
   "outputs": [
    {
     "name": "stdout",
     "output_type": "stream",
     "text": [
      "Prepass done\n",
      "C:\\Users\\Jerome\\PycharmProjects\\FASTgres\\fastgres\n",
      "Setting up experiment.\n",
      "Starting Training.\n",
      "\u001B[36m(TrainingPhase pid=22292)\u001B[0m Setting query information\n",
      "\u001B[36m(TrainingPhase pid=22292)\u001B[0m   0%|          | 0/5571 [00:00<?, ?it/s]\n",
      "\u001B[36m(TrainingPhase pid=22292)\u001B[0m Query building time: 49.53076434135437\n"
     ]
    },
    {
     "ename": "RayTaskError(KeyError)",
     "evalue": "\u001B[36mray::TrainingPhase.train()\u001B[39m (pid=22292, ip=127.0.0.1, actor_id=e13ba6826ae7358c4891f28301000000, repr=<__main__.TrainingPhase object at 0x0000012B85676A30>)\n  File \"python\\ray\\_raylet.pyx\", line 1675, in ray._raylet.execute_task\n  File \"python\\ray\\_raylet.pyx\", line 1615, in ray._raylet.execute_task.function_executor\n  File \"C:\\Users\\Jerome\\PycharmProjects\\FASTgres\\venv\\lib\\site-packages\\ray\\_private\\function_manager.py\", line 726, in actor_method_executor\n    return method(__ray_actor, *args, **kwargs)\n  File \"C:\\Users\\Jerome\\PycharmProjects\\FASTgres\\venv\\lib\\site-packages\\ray\\util\\tracing\\tracing_helper.py\", line 467, in _resume_span\n    return method(self, *_args, **_kwargs)\n  File \"C:\\Users\\Jerome\\AppData\\Local\\Temp\\ipykernel_21980\\3568875257.py\", line 30, in train\nKeyError: 'q8-016.sql'",
     "output_type": "error",
     "traceback": [
      "\u001B[1;31m---------------------------------------------------------------------------\u001B[0m",
      "\u001B[1;31mRayTaskError(KeyError)\u001B[0m                    Traceback (most recent call last)",
      "Cell \u001B[1;32mIn[6], line 31\u001B[0m\n\u001B[0;32m     29\u001B[0m \u001B[38;5;66;03m# training_phase = ray.get(training_phase)\u001B[39;00m\n\u001B[0;32m     30\u001B[0m model_obj_ref \u001B[38;5;241m=\u001B[39m obj_ref\u001B[38;5;241m.\u001B[39mtrain\u001B[38;5;241m.\u001B[39mremote()\n\u001B[1;32m---> 31\u001B[0m models \u001B[38;5;241m=\u001B[39m \u001B[43mray\u001B[49m\u001B[38;5;241;43m.\u001B[39;49m\u001B[43mget\u001B[49m\u001B[43m(\u001B[49m\u001B[43mmodel_obj_ref\u001B[49m\u001B[43m)\u001B[49m\n\u001B[0;32m     32\u001B[0m t1 \u001B[38;5;241m=\u001B[39m time\u001B[38;5;241m.\u001B[39mtime()\n\u001B[0;32m     33\u001B[0m \u001B[38;5;28mprint\u001B[39m(\u001B[38;5;124mf\u001B[39m\u001B[38;5;124m\"\u001B[39m\u001B[38;5;124mDistributed training time: \u001B[39m\u001B[38;5;132;01m{\u001B[39;00mt1\u001B[38;5;241m-\u001B[39mt0\u001B[38;5;132;01m}\u001B[39;00m\u001B[38;5;124ms.\u001B[39m\u001B[38;5;124m\"\u001B[39m)\n",
      "File \u001B[1;32m~\\PycharmProjects\\FASTgres\\venv\\lib\\site-packages\\ray\\_private\\auto_init_hook.py:24\u001B[0m, in \u001B[0;36mwrap_auto_init.<locals>.auto_init_wrapper\u001B[1;34m(*args, **kwargs)\u001B[0m\n\u001B[0;32m     21\u001B[0m \u001B[38;5;129m@wraps\u001B[39m(fn)\n\u001B[0;32m     22\u001B[0m \u001B[38;5;28;01mdef\u001B[39;00m \u001B[38;5;21mauto_init_wrapper\u001B[39m(\u001B[38;5;241m*\u001B[39margs, \u001B[38;5;241m*\u001B[39m\u001B[38;5;241m*\u001B[39mkwargs):\n\u001B[0;32m     23\u001B[0m     auto_init_ray()\n\u001B[1;32m---> 24\u001B[0m     \u001B[38;5;28;01mreturn\u001B[39;00m fn(\u001B[38;5;241m*\u001B[39margs, \u001B[38;5;241m*\u001B[39m\u001B[38;5;241m*\u001B[39mkwargs)\n",
      "File \u001B[1;32m~\\PycharmProjects\\FASTgres\\venv\\lib\\site-packages\\ray\\_private\\client_mode_hook.py:103\u001B[0m, in \u001B[0;36mclient_mode_hook.<locals>.wrapper\u001B[1;34m(*args, **kwargs)\u001B[0m\n\u001B[0;32m    101\u001B[0m     \u001B[38;5;28;01mif\u001B[39;00m func\u001B[38;5;241m.\u001B[39m\u001B[38;5;18m__name__\u001B[39m \u001B[38;5;241m!=\u001B[39m \u001B[38;5;124m\"\u001B[39m\u001B[38;5;124minit\u001B[39m\u001B[38;5;124m\"\u001B[39m \u001B[38;5;129;01mor\u001B[39;00m is_client_mode_enabled_by_default:\n\u001B[0;32m    102\u001B[0m         \u001B[38;5;28;01mreturn\u001B[39;00m \u001B[38;5;28mgetattr\u001B[39m(ray, func\u001B[38;5;241m.\u001B[39m\u001B[38;5;18m__name__\u001B[39m)(\u001B[38;5;241m*\u001B[39margs, \u001B[38;5;241m*\u001B[39m\u001B[38;5;241m*\u001B[39mkwargs)\n\u001B[1;32m--> 103\u001B[0m \u001B[38;5;28;01mreturn\u001B[39;00m func(\u001B[38;5;241m*\u001B[39margs, \u001B[38;5;241m*\u001B[39m\u001B[38;5;241m*\u001B[39mkwargs)\n",
      "File \u001B[1;32m~\\PycharmProjects\\FASTgres\\venv\\lib\\site-packages\\ray\\_private\\worker.py:2563\u001B[0m, in \u001B[0;36mget\u001B[1;34m(object_refs, timeout)\u001B[0m\n\u001B[0;32m   2561\u001B[0m     worker\u001B[38;5;241m.\u001B[39mcore_worker\u001B[38;5;241m.\u001B[39mdump_object_store_memory_usage()\n\u001B[0;32m   2562\u001B[0m \u001B[38;5;28;01mif\u001B[39;00m \u001B[38;5;28misinstance\u001B[39m(value, RayTaskError):\n\u001B[1;32m-> 2563\u001B[0m     \u001B[38;5;28;01mraise\u001B[39;00m value\u001B[38;5;241m.\u001B[39mas_instanceof_cause()\n\u001B[0;32m   2564\u001B[0m \u001B[38;5;28;01melse\u001B[39;00m:\n\u001B[0;32m   2565\u001B[0m     \u001B[38;5;28;01mraise\u001B[39;00m value\n",
      "\u001B[1;31mRayTaskError(KeyError)\u001B[0m: \u001B[36mray::TrainingPhase.train()\u001B[39m (pid=22292, ip=127.0.0.1, actor_id=e13ba6826ae7358c4891f28301000000, repr=<__main__.TrainingPhase object at 0x0000012B85676A30>)\n  File \"python\\ray\\_raylet.pyx\", line 1675, in ray._raylet.execute_task\n  File \"python\\ray\\_raylet.pyx\", line 1615, in ray._raylet.execute_task.function_executor\n  File \"C:\\Users\\Jerome\\PycharmProjects\\FASTgres\\venv\\lib\\site-packages\\ray\\_private\\function_manager.py\", line 726, in actor_method_executor\n    return method(__ray_actor, *args, **kwargs)\n  File \"C:\\Users\\Jerome\\PycharmProjects\\FASTgres\\venv\\lib\\site-packages\\ray\\util\\tracing\\tracing_helper.py\", line 467, in _resume_span\n    return method(self, *_args, **_kwargs)\n  File \"C:\\Users\\Jerome\\AppData\\Local\\Temp\\ipykernel_21980\\3568875257.py\", line 30, in train\nKeyError: 'q8-016.sql'"
     ]
    }
   ],
   "source": [
    "database_connection = DatabaseConnection(PG_STACK_OVERFLOW, \"stack_connection\")\n",
    "\n",
    "encoding_info = EncodingInformation(database_connection, \"database_statistics/stack/\", workload)\n",
    "encoding_info.load_encoding_info()\n",
    "\n",
    "print(\"Prepass done\")\n",
    "\n",
    "print(os.getcwd())\n",
    "archive_path = \"archives/stack/12.4/stack_eval_dict_ax2.json\"\n",
    "train_size = 0.9\n",
    "seed = 29\n",
    "percentile = 99\n",
    "absolute = 1.0\n",
    "settings = Settings(seed, percentile, absolute)\n",
    "\n",
    "# Setting random seeds for the run\n",
    "np.random.seed(settings.seed)\n",
    "random.Random(settings.seed)\n",
    "\n",
    "print(\"Setting up experiment.\")\n",
    "\n",
    "experiment = Experiment(workload, encoding_info, database_connection,\n",
    "                        archive_path, train_size, settings)\n",
    "\n",
    "print(\"Starting Training.\")\n",
    "\n",
    "t0 = time.time()\n",
    "obj_ref = TrainingPhase.remote(experiment)\n",
    "# training_phase = ray.get(training_phase)\n",
    "model_obj_ref = obj_ref.train.remote()\n",
    "models = ray.get(model_obj_ref)\n",
    "t1 = time.time()\n",
    "print(f\"Distributed training time: {t1-t0}s.\")\n",
    "\n",
    "# testing_phase = TestingPhase(experiment, training_phase.models)\n",
    "# testing_phase.test()\n"
   ],
   "metadata": {
    "collapsed": false
   }
  },
  {
   "cell_type": "code",
   "execution_count": 10,
   "outputs": [],
   "source": [
    "ray.shutdown()"
   ],
   "metadata": {
    "collapsed": false
   }
  },
  {
   "cell_type": "code",
   "execution_count": null,
   "outputs": [],
   "source": [],
   "metadata": {
    "collapsed": false
   }
  }
 ],
 "metadata": {
  "kernelspec": {
   "display_name": "Python 3",
   "language": "python",
   "name": "python3"
  },
  "language_info": {
   "codemirror_mode": {
    "name": "ipython",
    "version": 2
   },
   "file_extension": ".py",
   "mimetype": "text/x-python",
   "name": "python",
   "nbconvert_exporter": "python",
   "pygments_lexer": "ipython2",
   "version": "2.7.6"
  }
 },
 "nbformat": 4,
 "nbformat_minor": 0
}
