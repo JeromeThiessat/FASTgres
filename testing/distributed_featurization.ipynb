{
 "cells": [
  {
   "cell_type": "code",
   "execution_count": 3,
   "outputs": [
    {
     "name": "stderr",
     "output_type": "stream",
     "text": [
      "Loading Queries: 6191it [00:00, 48918.72it/s]\n"
     ]
    }
   ],
   "source": [
    "import os\n",
    "import ray\n",
    "if os.getcwd() != \"C:/Users/Jerome/PycharmProjects/FASTgres/fastgres\":\n",
    "    os.chdir(\"C:/Users/Jerome/PycharmProjects/FASTgres/fastgres\")\n",
    "\n",
    "from workloads.workload import Workload\n",
    "from query_encoding.query import Query\n",
    "from query_encoding.encoded_query import EncodedQuery, EncodingInformation, Context\n",
    "import baseline.utility as u\n",
    "from tqdm.notebook import tqdm\n",
    "import time\n",
    "\n",
    "workload = Workload(\"workloads/queries/stack/\", \"stack\")\n",
    "workload.load_queries()"
   ],
   "metadata": {
    "collapsed": false
   }
  },
  {
   "cell_type": "code",
   "execution_count": 4,
   "outputs": [],
   "source": [
    "@ray.remote\n",
    "def build_query(q, w):\n",
    "    return Query(q, w)\n",
    "\n",
    "@ray.remote\n",
    "class DistEncQuery(EncodedQuery):\n",
    "    def __init__(self, context: Context, query: Query, enc_inf: EncodingInformation):\n",
    "        super().__init__(context, query, enc_inf)\n",
    "\n",
    "    def encode_query(self):\n",
    "        super().encode_query()\n",
    "        return self.encoded_query\n",
    "\n",
    "@ray.remote\n",
    "def encode_query(context: Context, query: Query, enc_inf: EncodingInformation):\n",
    "    # enc_q = EncodedQuery(context, query, enc_inf)\n",
    "    dist_q = DistEncQuery.remote(context, query, enc_inf)\n",
    "    enc_q = ray.get(dist_q.encode_query.remote())\n",
    "    print(enc_q)\n",
    "    return enc_q"
   ],
   "metadata": {
    "collapsed": false
   }
  },
  {
   "cell_type": "code",
   "execution_count": null,
   "outputs": [],
   "source": [
    "ray.init()\n",
    "\n",
    "q_enc_d = dict()\n",
    "q_enc_s = dict()\n",
    "\n",
    "t0 = time.time()\n",
    "for query_name in tqdm(workload.queries):\n",
    "    query = build_query.remote(query_name, workload)\n",
    "    q_enc_d[query_name] = query\n",
    "t1 = time.time()\n",
    "for query_name in tqdm(workload.queries):\n",
    "    query = Query(query_name, workload)\n",
    "    q_enc_s[query_name] = query\n",
    "t2 = time.time()\n",
    "\n",
    "ray.shutdown()"
   ],
   "metadata": {
    "collapsed": false
   }
  },
  {
   "cell_type": "code",
   "execution_count": null,
   "outputs": [],
   "source": [
    "# u.save_pickle(q_enc_d, \"testing/test_dict_distributed.pkl\")\n",
    "# u.save_pickle(q_enc_s, \"testing/test_dict_single.pkl\")\n",
    "print(f\"Distributed / Single: {t1-t0}s / {t2-t1}s\")\n",
    "print(f\"Speedup Factor:  {(t2-t1) / (t1-t0)}\")"
   ],
   "metadata": {
    "collapsed": false
   }
  },
  {
   "cell_type": "code",
   "execution_count": null,
   "outputs": [],
   "source": [
    "from definitions import PG_STACK_OVERFLOW, PG_IMDB\n",
    "ray.init()\n",
    "\n",
    "query_dict = u.load_pickle(\"../testing/test_dict_single.pkl\")\n",
    "enc_inf = EncodingInformation(PG_STACK_OVERFLOW, \"database_statistics/stack/\", workload)\n",
    "enc_inf.load_encoding_info()\n",
    "\n",
    "# t0 = time.time()\n",
    "# for query_name in tqdm(workload.queries):\n",
    "#     query = query_dict[query_name]\n",
    "#     context = Context()\n",
    "#     context.add_context(query.context)\n",
    "#     query_encoding = encode_query.remote(context, query, enc_inf)\n",
    "t1 = time.time()\n",
    "for query_name in tqdm(workload.queries):\n",
    "    query = query_dict[query_name]\n",
    "    context = Context()\n",
    "    context.add_context(query.context)\n",
    "    enc_q = EncodedQuery(context, query, enc_inf)\n",
    "    enc_q.encode_query()\n",
    "t2 = time.time()\n",
    "\n",
    "ray.shutdown()"
   ],
   "metadata": {
    "collapsed": false
   }
  },
  {
   "cell_type": "code",
   "execution_count": null,
   "outputs": [],
   "source": [
    "print(f\"Distributed / Single: {t1-t0}s / {t2-t1}s\")\n",
    "print(f\"Speedup Factor:  {(t2-t1) / (t1-t0)}\")"
   ],
   "metadata": {
    "collapsed": false
   }
  },
  {
   "cell_type": "code",
   "execution_count": null,
   "outputs": [],
   "source": [
    "ray.shutdown()"
   ],
   "metadata": {
    "collapsed": false
   }
  },
  {
   "cell_type": "markdown",
   "source": [
    "# Checking ray merging"
   ],
   "metadata": {
    "collapsed": false
   }
  },
  {
   "cell_type": "code",
   "execution_count": 6,
   "outputs": [
    {
     "data": {
      "text/plain": "  0%|          | 0/6191 [00:00<?, ?it/s]",
      "application/vnd.jupyter.widget-view+json": {
       "version_major": 2,
       "version_minor": 0,
       "model_id": "2ba02cd4d210420db6219a3540b964a8"
      }
     },
     "metadata": {},
     "output_type": "display_data"
    },
    {
     "data": {
      "text/plain": "  0%|          | 0/6191 [00:00<?, ?it/s]",
      "application/vnd.jupyter.widget-view+json": {
       "version_major": 2,
       "version_minor": 0,
       "model_id": "3e972ba92b9645baa573c5d8ca2015aa"
      }
     },
     "metadata": {},
     "output_type": "display_data"
    },
    {
     "ename": "NameError",
     "evalue": "name 'q_enc_s' is not defined",
     "output_type": "error",
     "traceback": [
      "\u001B[1;31m---------------------------------------------------------------------------\u001B[0m",
      "\u001B[1;31mNameError\u001B[0m                                 Traceback (most recent call last)",
      "Cell \u001B[1;32mIn[6], line 12\u001B[0m\n\u001B[0;32m     10\u001B[0m \u001B[38;5;28;01mfor\u001B[39;00m query_name \u001B[38;5;129;01min\u001B[39;00m tqdm(workload\u001B[38;5;241m.\u001B[39mqueries):\n\u001B[0;32m     11\u001B[0m     query \u001B[38;5;241m=\u001B[39m Query(query_name, workload)\n\u001B[1;32m---> 12\u001B[0m     \u001B[43mq_enc_s\u001B[49m[query_name] \u001B[38;5;241m=\u001B[39m query\n\u001B[0;32m     13\u001B[0m t2 \u001B[38;5;241m=\u001B[39m time\u001B[38;5;241m.\u001B[39mtime()\n",
      "\u001B[1;31mNameError\u001B[0m: name 'q_enc_s' is not defined"
     ]
    }
   ],
   "source": [
    "query_list = list()\n",
    "q_enc_s = dict()\n",
    "t0 = time.time()\n",
    "for query_name in tqdm(workload.queries):\n",
    "    query = build_query.remote(query_name, workload)\n",
    "    query_list.append(query)\n",
    "vals = ray.get(query_list)\n",
    "q_dict_d = dict(list(zip(workload.queries, vals)))\n",
    "t1 = time.time()\n",
    "for query_name in tqdm(workload.queries):\n",
    "    query = Query(query_name, workload)\n",
    "    q_enc_s[query_name] = query\n",
    "t2 = time.time()"
   ],
   "metadata": {
    "collapsed": false
   }
  },
  {
   "cell_type": "code",
   "execution_count": null,
   "outputs": [],
   "source": [
    "print(f\"Distributed / Single: {t1-t0}s / {t2-t1}s\")\n",
    "print(f\"Speedup Factor:  {(t2-t1) / (t1-t0)}\")"
   ],
   "metadata": {
    "collapsed": false
   }
  },
  {
   "cell_type": "code",
   "execution_count": null,
   "outputs": [],
   "source": [],
   "metadata": {
    "collapsed": false
   }
  }
 ],
 "metadata": {
  "kernelspec": {
   "display_name": "Python 3",
   "language": "python",
   "name": "python3"
  },
  "language_info": {
   "codemirror_mode": {
    "name": "ipython",
    "version": 2
   },
   "file_extension": ".py",
   "mimetype": "text/x-python",
   "name": "python",
   "nbconvert_exporter": "python",
   "pygments_lexer": "ipython2",
   "version": "2.7.6"
  }
 },
 "nbformat": 4,
 "nbformat_minor": 0
}
