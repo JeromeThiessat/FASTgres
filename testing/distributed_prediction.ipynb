{
 "cells": [
  {
   "cell_type": "code",
   "execution_count": 2,
   "outputs": [
    {
     "name": "stderr",
     "output_type": "stream",
     "text": [
      "Loading Queries: 6191it [00:00, 55405.82it/s]\n"
     ]
    }
   ],
   "source": [
    "\n",
    "import os\n",
    "import pika\n",
    "import json\n",
    "# from icecream.icecream import ic\n",
    "\n",
    "if os.getcwd() != \"C:/Users/Jerome/PycharmProjects/FASTgres\":\n",
    "    os.chdir(\"C:/Users/Jerome/PycharmProjects/FASTgres\")\n",
    "\n",
    "from fastgres.workloads.workload import Workload\n",
    "from fastgres.baseline.database_connection import DatabaseConnection\n",
    "from fastgres.async_components.node import SenderNode\n",
    "\n",
    "# PG_STACK_OVERFLOW = \"dbname=stack_overflow user=postgres password=postgres host=localhost port=5432\"\n",
    "\n",
    "class ProviderSender(SenderNode):\n",
    "\n",
    "    def __init__(self, name: str, queues: list[str]):\n",
    "        super().__init__(name, queues)\n",
    "\n",
    "    def __str__(self):\n",
    "        return f\"Query Provider Node {self.name}\"\n",
    "\n",
    "workload = Workload(\"fastgres/workloads/queries/stack/\", \"stack\")\n",
    "workload.load_queries()\n",
    "\n",
    "test_queries_names = workload.queries[:1000]\n",
    "test_queries = [workload.read_query(_) for _ in test_queries_names]\n",
    "query_dict = {str(test_queries_names[i]): str(test_queries[i]) for i in range(len(test_queries_names))}\n",
    "message = {\"message\": \"provider.dispatcher.query\",\n",
    "           \"payload\": query_dict}\n",
    "# ic(message)\n",
    "# database_connection = DatabaseConnection(PG_STACK_OVERFLOW, \"stack_connection\")\n"
   ],
   "metadata": {
    "collapsed": false
   }
  },
  {
   "cell_type": "code",
   "execution_count": 3,
   "outputs": [
    {
     "name": "stdout",
     "output_type": "stream",
     "text": [
      "Sent message\n"
     ]
    }
   ],
   "source": [
    "provider = ProviderSender(\"Query Provider\", [\"query_queue\"])\n",
    "try:\n",
    "    provider.send_message(json.dumps(message), provider.queues[0])\n",
    "    print(\"Sent message\")\n",
    "except Exception as e:\n",
    "    print(f\"Failed to send message: {e}\")\n",
    "    pass\n",
    "finally:\n",
    "    provider.close()\n",
    "    # provider.msgThread.join()\n",
    "\n",
    "# wl_node.channel.basic_publish(exchange='', routing_key=wl_node.queue, body=\"util.ping\", properties=pika.BasicProperties(delivery_mode=2))\n",
    "# wl_node.channel.basic_publish(exchange='', routing_key=wl_node.queue, body=f\"query.{workload.queries[1]}\", properties=pika.BasicProperties(delivery_mode=2))\n",
    "# wl_node.close()"
   ],
   "metadata": {
    "collapsed": false
   }
  },
  {
   "cell_type": "code",
   "execution_count": 2,
   "outputs": [],
   "source": [],
   "metadata": {
    "collapsed": false
   }
  }
 ],
 "metadata": {
  "kernelspec": {
   "display_name": "Python 3",
   "language": "python",
   "name": "python3"
  },
  "language_info": {
   "codemirror_mode": {
    "name": "ipython",
    "version": 2
   },
   "file_extension": ".py",
   "mimetype": "text/x-python",
   "name": "python",
   "nbconvert_exporter": "python",
   "pygments_lexer": "ipython2",
   "version": "2.7.6"
  }
 },
 "nbformat": 4,
 "nbformat_minor": 0
}
