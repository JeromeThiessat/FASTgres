{
 "cells": [
  {
   "cell_type": "code",
   "execution_count": 3,
   "id": "initial_id",
   "metadata": {
    "collapsed": true,
    "ExecuteTime": {
     "end_time": "2024-01-24T08:13:27.644563700Z",
     "start_time": "2024-01-24T08:13:27.630037500Z"
    }
   },
   "outputs": [],
   "source": [
    "from fastgres.baseline.database_connection import DatabaseConnection\n",
    "import os\n",
    "from fastgres.definitions import PathConfig\n",
    "if os.getcwd() != \"C:/Users/Jerome/PycharmProjects/FASTgres\":\n",
    "    os.chdir(\"C:/Users/Jerome/PycharmProjects/FASTgres\")"
   ]
  },
  {
   "cell_type": "code",
   "outputs": [],
   "source": [
    "path_config = PathConfig(\"fastgres/config.ini\")\n",
    "\n",
    "args_db_string = path_config.PG_IMDB\n",
    "dbc = DatabaseConnection(args_db_string, 'imdb')"
   ],
   "metadata": {
    "collapsed": false,
    "ExecuteTime": {
     "end_time": "2024-01-24T08:13:28.095347500Z",
     "start_time": "2024-01-24T08:13:28.081232300Z"
    }
   },
   "id": "244f6bf90bb7e156",
   "execution_count": 4
  },
  {
   "cell_type": "code",
   "outputs": [],
   "source": [
    "conn, cur = dbc.establish_connection()\n",
    "cur.execute(\"LOAD 'pg_hint_plan';\")\n",
    "cur.close()\n",
    "conn.close()"
   ],
   "metadata": {
    "collapsed": false,
    "ExecuteTime": {
     "end_time": "2024-01-24T08:14:50.455951100Z",
     "start_time": "2024-01-24T08:14:48.362377300Z"
    }
   },
   "id": "93a91e6a35bee98d",
   "execution_count": 7
  }
 ],
 "metadata": {
  "kernelspec": {
   "display_name": "Python 3",
   "language": "python",
   "name": "python3"
  },
  "language_info": {
   "codemirror_mode": {
    "name": "ipython",
    "version": 2
   },
   "file_extension": ".py",
   "mimetype": "text/x-python",
   "name": "python",
   "nbconvert_exporter": "python",
   "pygments_lexer": "ipython2",
   "version": "2.7.6"
  }
 },
 "nbformat": 4,
 "nbformat_minor": 5
}
