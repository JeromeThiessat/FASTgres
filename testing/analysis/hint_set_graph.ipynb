{
 "cells": [
  {
   "cell_type": "code",
   "outputs": [],
   "source": [
    "%load_ext autoreload\n",
    "%autoreload 2"
   ],
   "metadata": {
    "collapsed": false
   },
   "id": "11a50883eae31704"
  },
  {
   "cell_type": "code",
   "outputs": [],
   "source": [
    "import os\n",
    "if os.getcwd() != \"C:/Users/Jerome/PycharmProjects/FASTgres\":\n",
    "    os.chdir(\"C:/Users/Jerome/PycharmProjects/FASTgres\")"
   ],
   "metadata": {
    "collapsed": true
   },
   "id": "initial_id",
   "execution_count": 0
  },
  {
   "cell_type": "code",
   "outputs": [],
   "source": [
    "workload_name = \"job\"\n",
    "version = 16.1\n",
    "a_path = f\"fastgres/archives/{workload_name}/{version}/archive.json\"\n",
    "wl_path = f\"fastgres/workloads/queries/{workload_name}/\""
   ],
   "metadata": {
    "collapsed": false
   },
   "id": "1e45dcf5ee53f2f0"
  },
  {
   "cell_type": "code",
   "outputs": [],
   "source": [],
   "metadata": {
    "collapsed": false
   },
   "id": "c0cae1b445591251"
  }
 ],
 "metadata": {
  "kernelspec": {
   "display_name": "Python 3",
   "language": "python",
   "name": "python3"
  },
  "language_info": {
   "codemirror_mode": {
    "name": "ipython",
    "version": 2
   },
   "file_extension": ".py",
   "mimetype": "text/x-python",
   "name": "python",
   "nbconvert_exporter": "python",
   "pygments_lexer": "ipython2",
   "version": "2.7.6"
  }
 },
 "nbformat": 4,
 "nbformat_minor": 5
}
