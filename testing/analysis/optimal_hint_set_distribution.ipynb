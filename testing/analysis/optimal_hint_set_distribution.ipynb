{
 "cells": [
  {
   "cell_type": "code",
   "outputs": [],
   "source": [
    "%load_ext autoreload\n",
    "%autoreload 2"
   ],
   "metadata": {
    "collapsed": false,
    "ExecuteTime": {
     "end_time": "2024-01-30T09:24:39.369363Z",
     "start_time": "2024-01-30T09:24:39.040773400Z"
    }
   },
   "id": "a0876c8a28bf1434",
   "execution_count": 1
  },
  {
   "cell_type": "code",
   "outputs": [],
   "source": [
    "import os\n",
    "from fastgres.workloads.workload import Workload\n",
    "from fastgres.baseline.hint_sets import Hint\n",
    "import random\n",
    "if os.getcwd() != \"C:/Users/Jerome/PycharmProjects/FASTgres\":\n",
    "    os.chdir(\"C:/Users/Jerome/PycharmProjects/FASTgres\")"
   ],
   "metadata": {
    "collapsed": false,
    "ExecuteTime": {
     "end_time": "2024-01-30T09:24:40.568276700Z",
     "start_time": "2024-01-30T09:24:39.371492400Z"
    }
   },
   "id": "562ef52bc6ca5c04",
   "execution_count": 2
  },
  {
   "cell_type": "code",
   "outputs": [],
   "source": [
    "workload_name = \"job\"\n",
    "version = 12.4\n",
    "a_path = f\"fastgres/archives/{workload_name}/{version}/archive.json\"\n",
    "wl_path = f\"fastgres/workloads/queries/{workload_name}/\"\n",
    "wl = Workload(wl_path, workload_name)"
   ],
   "metadata": {
    "collapsed": false,
    "ExecuteTime": {
     "end_time": "2024-01-30T09:24:40.601474300Z",
     "start_time": "2024-01-30T09:24:40.570554Z"
    }
   },
   "id": "6fa014e92b8e65a3",
   "execution_count": 3
  },
  {
   "cell_type": "code",
   "outputs": [
    {
     "ename": "NameError",
     "evalue": "name 'Hint' is not defined",
     "output_type": "error",
     "traceback": [
      "\u001B[1;31m---------------------------------------------------------------------------\u001B[0m",
      "\u001B[1;31mNameError\u001B[0m                                 Traceback (most recent call last)",
      "Cell \u001B[1;32mIn[1], line 3\u001B[0m\n\u001B[0;32m      1\u001B[0m \u001B[38;5;28;01mfrom\u001B[39;00m \u001B[38;5;21;01mfastgres\u001B[39;00m\u001B[38;5;21;01m.\u001B[39;00m\u001B[38;5;21;01manalysis_utility\u001B[39;00m\u001B[38;5;21;01m.\u001B[39;00m\u001B[38;5;21;01mtools\u001B[39;00m\u001B[38;5;21;01m.\u001B[39;00m\u001B[38;5;21;01mhint_set_distribution\u001B[39;00m \u001B[38;5;28;01mimport\u001B[39;00m HintSetDistribution\n\u001B[1;32m----> 3\u001B[0m hints \u001B[38;5;241m=\u001B[39m [hint \u001B[38;5;28;01mfor\u001B[39;00m hint \u001B[38;5;129;01min\u001B[39;00m \u001B[43mHint\u001B[49m]\n\u001B[0;32m      4\u001B[0m query_names \u001B[38;5;241m=\u001B[39m wl\u001B[38;5;241m.\u001B[39mqueries\n\u001B[0;32m      5\u001B[0m random\u001B[38;5;241m.\u001B[39mshuffle(query_names)\n",
      "\u001B[1;31mNameError\u001B[0m: name 'Hint' is not defined"
     ]
    }
   ],
   "source": [
    "from fastgres.analysis_utility.tools.hint_set_distribution import HintSetDistribution\n",
    "\n",
    "hints = [hint for hint in Hint]\n",
    "query_names = wl.queries\n",
    "random.shuffle(query_names)\n",
    "\n",
    "dist = HintSetDistribution(a_path, wl_path, query_names, hints)\n",
    "dist.set_properties(ylabel=\"Occurrence [Count]\", xlabel=\"Hint Set [Int]\", title=f\"{workload_name.upper()}\")\n",
    "dist.show()"
   ],
   "metadata": {
    "collapsed": false,
    "ExecuteTime": {
     "end_time": "2024-01-30T10:52:23.328648400Z",
     "start_time": "2024-01-30T10:52:21.234900200Z"
    }
   },
   "id": "928f1853bbcfbf8f",
   "execution_count": 1
  }
 ],
 "metadata": {
  "kernelspec": {
   "display_name": "Python 3",
   "language": "python",
   "name": "python3"
  },
  "language_info": {
   "codemirror_mode": {
    "name": "ipython",
    "version": 2
   },
   "file_extension": ".py",
   "mimetype": "text/x-python",
   "name": "python",
   "nbconvert_exporter": "python",
   "pygments_lexer": "ipython2",
   "version": "2.7.6"
  }
 },
 "nbformat": 4,
 "nbformat_minor": 5
}
